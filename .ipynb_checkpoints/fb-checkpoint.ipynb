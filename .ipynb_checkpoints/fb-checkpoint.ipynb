{
 "cells": [
  {
   "cell_type": "markdown",
   "metadata": {},
   "source": [
    "# FB Proof of Concept\n",
    "\n",
    "### Fall 2018\n",
    "### GET Requests"
   ]
  },
  {
   "cell_type": "code",
   "execution_count": 1,
   "metadata": {},
   "outputs": [],
   "source": [
    "## Workaround to overcome shortcomings of FB Python SDK ; not absense of FB Code\n",
    "## Convert cURL requests into Python\n",
    "## Extract responses as text, load to json\n",
    "## Data cleaning / parsing using Pandas\n",
    "## Resolve token limitation issue\n",
    "## Breaking Python 3.7 ; run in 3.6/3.5/2.7 - this is 2.7 "
   ]
  },
  {
   "cell_type": "code",
   "execution_count": 2,
   "metadata": {},
   "outputs": [],
   "source": [
    "import requests\n",
    "import json\n",
    "import csv\n",
    "import pandas\n",
    "import pandas as pd \n",
    "from pandas.io.json import json_normalize\n",
    "#import pprint"
   ]
  },
  {
   "cell_type": "code",
   "execution_count": 3,
   "metadata": {},
   "outputs": [],
   "source": [
    "## Specify fields, access token, and other parameters"
   ]
  },
  {
   "cell_type": "code",
   "execution_count": 4,
   "metadata": {},
   "outputs": [],
   "source": [
    "params = (\n",
    "    ('fields', 'id,name,about'),\n",
    "    ('access_token', 'EAAE8mDZAuUOABAKrl24rJJaZBPqnbMbDqNUJHG8eV513KvTTy2SjAhpKZBdjSxY2eC0INkMCflkhOK6n0iprDBYQZCaEqCY9htf8dwrnoKPiXanzP6k8NpJ239syiR5Ba3QKjUZCUA9a7Y8693s5jGMSh48WYUimdfuZCylMdS6dvZBfZBeQBJPHceKaqNndLBaZCQ5ioGMh2gwZDZD'),\n",
    ")"
   ]
  },
  {
   "cell_type": "code",
   "execution_count": 5,
   "metadata": {},
   "outputs": [],
   "source": [
    "## Use GET method from requests package (versioning problems in python 3):"
   ]
  },
  {
   "cell_type": "code",
   "execution_count": 6,
   "metadata": {},
   "outputs": [],
   "source": [
    "response = requests.get('https://graph.facebook.com/v3.2/me', params=params)"
   ]
  },
  {
   "cell_type": "code",
   "execution_count": 7,
   "metadata": {},
   "outputs": [
    {
     "name": "stdout",
     "output_type": "stream",
     "text": [
      "{\"id\":\"1346074925462155\",\"name\":\"Chubb LatAm\",\"about\":\"Chubb es la compa\\u00f1\\u00eda de seguros de propiedad y responsabilidad civil m\\u00e1s grande del mundo que cotiza en bolsa. Con operaciones en 54 pa\\u00edses y territorios, 9 de Latinoam\\u00e9rica. Consulte cualquier duda en nuestros centros de contacto: https:\\/\\/bit.ly\\/2Jk\"}\n"
     ]
    }
   ],
   "source": [
    "## Render <RESPONSE 200> into text:\n",
    "answer = response.text\n",
    "print(response.text) "
   ]
  },
  {
   "cell_type": "code",
   "execution_count": 38,
   "metadata": {},
   "outputs": [],
   "source": [
    "## Save GET request as JSON:\n",
    "## Need to write function that looks less hacky: \n",
    "## Dictionary\n",
    "extract = json.loads(answer)\n",
    "with open('fb.json', 'w') as outfile:\n",
    "    json.dump(extract, outfile)"
   ]
  },
  {
   "cell_type": "code",
   "execution_count": 63,
   "metadata": {},
   "outputs": [],
   "source": [
    "master = pd.read_json(\"fb.json\", lines=True)\n",
    "accountid = master[\"id\"].values\n",
    "accountname = master[\"name\"].values\n",
    "aboutpage = master[\"about\"].values"
   ]
  },
  {
   "cell_type": "code",
   "execution_count": 62,
   "metadata": {},
   "outputs": [
    {
     "name": "stdout",
     "output_type": "stream",
     "text": [
      "                                               About        Account ID  \\\n",
      "0  Chubb es la compañía de seguros de propiedad y...  1346074925462155   \n",
      "\n",
      "  Account Name  \n",
      "0  Chubb LatAm  \n"
     ]
    }
   ],
   "source": [
    "## Dictionary\n",
    "master = pd.DataFrame({\"Account ID\":accountid, \"Account Name\":accountname, \"About\":aboutpage})\n",
    "master2 = str(master)\n",
    "print(master2)\n",
    "#master2.to_csv('master.csv', index=False)"
   ]
  },
  {
   "cell_type": "code",
   "execution_count": null,
   "metadata": {},
   "outputs": [],
   "source": [
    "#print(master['id']) "
   ]
  },
  {
   "cell_type": "code",
   "execution_count": 44,
   "metadata": {},
   "outputs": [
    {
     "name": "stdout",
     "output_type": "stream",
     "text": [
      "                                               about                id  \\\n",
      "0  Chubb es la compañía de seguros de propiedad y...  1346074925462155   \n",
      "\n",
      "          name  \n",
      "0  Chubb LatAm  \n"
     ]
    }
   ],
   "source": [
    "extract2 = json_normalize(extract)\n",
    "print(extract2)"
   ]
  },
  {
   "cell_type": "code",
   "execution_count": 45,
   "metadata": {},
   "outputs": [
    {
     "name": "stdout",
     "output_type": "stream",
     "text": [
      "{u'about': u'Chubb es la compa\\xf1\\xeda de seguros de propiedad y responsabilidad civil m\\xe1s grande del mundo que cotiza en bolsa. Con operaciones en 54 pa\\xedses y territorios, 9 de Latinoam\\xe9rica. Consulte cualquier duda en nuestros centros de contacto: https://bit.ly/2Jk', u'id': u'1346074925462155', u'name': u'Chubb LatAm'}\n"
     ]
    }
   ],
   "source": [
    "print (extract)"
   ]
  },
  {
   "cell_type": "code",
   "execution_count": 49,
   "metadata": {},
   "outputs": [],
   "source": [
    "\n",
    "##df = pd.read_json('fb.json', orient='columns')\n",
    "#data = pd.read_csv('output_list.txt', sep=\" \", header=None)\n"
   ]
  },
  {
   "cell_type": "code",
   "execution_count": null,
   "metadata": {},
   "outputs": [],
   "source": [
    "cap = pd.DataFrame({\"COMPANY NAME\" : firm, \"CAPITAL\" : capital})\n",
    "cap.to_csv(\"capital.csv\", index=False)"
   ]
  },
  {
   "cell_type": "code",
   "execution_count": 65,
   "metadata": {},
   "outputs": [
    {
     "ename": "IOError",
     "evalue": "File not open for reading",
     "output_type": "error",
     "traceback": [
      "\u001b[1;31m---------------------------------------------------------------------------\u001b[0m",
      "\u001b[1;31mIOError\u001b[0m                                   Traceback (most recent call last)",
      "\u001b[1;32m<ipython-input-65-a581c54113cc>\u001b[0m in \u001b[0;36m<module>\u001b[1;34m()\u001b[0m\n\u001b[0;32m     14\u001b[0m \u001b[0mcount\u001b[0m \u001b[1;33m=\u001b[0m \u001b[1;36m0\u001b[0m\u001b[1;33m\u001b[0m\u001b[0m\n\u001b[0;32m     15\u001b[0m \u001b[1;33m\u001b[0m\u001b[0m\n\u001b[1;32m---> 16\u001b[1;33m \u001b[1;32mfor\u001b[0m \u001b[0mmaster\u001b[0m \u001b[1;32min\u001b[0m \u001b[0mmaster\u001b[0m\u001b[1;33m:\u001b[0m\u001b[1;33m\u001b[0m\u001b[0m\n\u001b[0m\u001b[0;32m     17\u001b[0m \u001b[1;33m\u001b[0m\u001b[0m\n\u001b[0;32m     18\u001b[0m       \u001b[1;32mif\u001b[0m \u001b[0mcount\u001b[0m \u001b[1;33m==\u001b[0m \u001b[1;36m0\u001b[0m\u001b[1;33m:\u001b[0m\u001b[1;33m\u001b[0m\u001b[0m\n",
      "\u001b[1;31mIOError\u001b[0m: File not open for reading"
     ]
    }
   ],
   "source": [
    "#employee_parsed = json.loads(employee_data)\n",
    "extract = json.loads(answer)\n",
    "\n",
    "#emp_data = employee_parsed['employee_details']\n",
    "\n",
    "# open a file for writing\n",
    "\n",
    "master = open('master.csv', 'w')\n",
    "\n",
    "# create the csv writer object\n",
    "\n",
    "csvwriter = csv.writer(master)\n",
    "\n",
    "count = 0\n",
    "\n",
    "for m in master:\n",
    "\n",
    "      if count == 0:\n",
    "\n",
    "             header = emp.keys()\n",
    "\n",
    "             csvwriter.writerow(header)\n",
    "\n",
    "             count += 1\n",
    "\n",
    "      csvwriter.writerow(emp.values())\n",
    "\n",
    "master.close()"
   ]
  },
  {
   "cell_type": "code",
   "execution_count": null,
   "metadata": {},
   "outputs": [],
   "source": []
  }
 ],
 "metadata": {
  "kernelspec": {
   "display_name": "Python 2",
   "language": "python",
   "name": "python2"
  },
  "language_info": {
   "codemirror_mode": {
    "name": "ipython",
    "version": 2
   },
   "file_extension": ".py",
   "mimetype": "text/x-python",
   "name": "python",
   "nbconvert_exporter": "python",
   "pygments_lexer": "ipython2",
   "version": "2.7.15"
  }
 },
 "nbformat": 4,
 "nbformat_minor": 2
}
